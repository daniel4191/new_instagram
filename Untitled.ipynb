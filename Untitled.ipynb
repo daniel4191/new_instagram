{
 "cells": [
  {
   "cell_type": "code",
   "execution_count": 5,
   "id": "2f0d7b29",
   "metadata": {},
   "outputs": [],
   "source": [
    "import os\n",
    "os.environ['DJANGO_SETTINGS_MODULE'] = 'instagram.settings'\n",
    "os.environ[\"DJANGO_ALLOW_UNSAFE\"] = 'true'\n",
    "os.environ[\"DJANGO_ALLOW_ASYNC_UNSAFE\"] = 'true'\n",
    "\n",
    "import django\n",
    "django.setup()"
   ]
  },
  {
   "cell_type": "code",
   "execution_count": null,
   "id": "f478784e",
   "metadata": {},
   "outputs": [],
   "source": []
  },
  {
   "cell_type": "code",
   "execution_count": 3,
   "id": "9fe4897f",
   "metadata": {},
   "outputs": [],
   "source": [
    "from gram.models import Post"
   ]
  },
  {
   "cell_type": "code",
   "execution_count": 7,
   "id": "78d1f5c9",
   "metadata": {},
   "outputs": [
    {
     "name": "stdout",
     "output_type": "stream",
     "text": [
      "<class 'django.db.models.query.QuerySet'>\n",
      "SELECT \"gram_post\".\"id\", \"gram_post\".\"message\", \"gram_post\".\"photo\", \"gram_post\".\"is_public\", \"gram_post\".\"created_at\", \"gram_post\".\"updated_at\" FROM \"gram_post\" ORDER BY \"gram_post\".\"id\" DESC\n"
     ]
    },
    {
     "data": {
      "text/plain": [
       "<QuerySet [<Post: post123123123>, <Post: post123123>, <Post: post123>]>"
      ]
     },
     "execution_count": 7,
     "metadata": {},
     "output_type": "execute_result"
    }
   ],
   "source": [
    "qs = Post.objects.all().order_by('-id')\n",
    "print(type(qs))\n",
    "print(qs.query)\n",
    "qs"
   ]
  },
  {
   "cell_type": "code",
   "execution_count": 9,
   "id": "733b42f9",
   "metadata": {},
   "outputs": [
    {
     "name": "stdout",
     "output_type": "stream",
     "text": [
      "{'_state': <django.db.models.base.ModelState object at 0x10ffd8bb0>, 'id': 3, 'message': 'post123123123', 'photo': '', 'is_public': False, 'created_at': datetime.datetime(2023, 1, 7, 12, 45, 8, 491005, tzinfo=datetime.timezone.utc), 'updated_at': datetime.datetime(2023, 1, 7, 12, 45, 8, 491060, tzinfo=datetime.timezone.utc)}\n",
      "{'_state': <django.db.models.base.ModelState object at 0x10ffd8850>, 'id': 2, 'message': 'post123123', 'photo': 'gram/post/20230109/code3.jpg', 'is_public': True, 'created_at': datetime.datetime(2023, 1, 7, 12, 45, 5, 258615, tzinfo=datetime.timezone.utc), 'updated_at': datetime.datetime(2023, 1, 9, 7, 47, 43, 365790, tzinfo=datetime.timezone.utc)}\n",
      "{'_state': <django.db.models.base.ModelState object at 0x10ffd80a0>, 'id': 1, 'message': 'post123', 'photo': '', 'is_public': False, 'created_at': datetime.datetime(2023, 1, 7, 12, 45, 0, 229176, tzinfo=datetime.timezone.utc), 'updated_at': datetime.datetime(2023, 1, 7, 12, 45, 0, 229235, tzinfo=datetime.timezone.utc)}\n"
     ]
    }
   ],
   "source": [
    "for post in qs:\n",
    "    print(post.__dict__)\n",
    "    \n",
    "'''\n",
    "{'_state': <django.db.models.base.ModelState object at 0x10ffd8bb0>, 'id': 3, 'message': 'post123123123', 'photo': '', 'is_public': False, 'created_at': datetime.datetime(2023, 1, 7, 12, 45, 8, 491005, tzinfo=datetime.timezone.utc), 'updated_at': datetime.datetime(2023, 1, 7, 12, 45, 8, 491060, tzinfo=datetime.timezone.utc)}\n",
    "{'_state': <django.db.models.base.ModelState object at 0x10ffd8850>, 'id': 2, 'message': 'post123123', 'photo': 'gram/post/20230109/code3.jpg', 'is_public': True, 'created_at': datetime.datetime(2023, 1, 7, 12, 45, 5, 258615, tzinfo=datetime.timezone.utc), 'updated_at': datetime.datetime(2023, 1, 9, 7, 47, 43, 365790, tzinfo=datetime.timezone.utc)}\n",
    "{'_state': <django.db.models.base.ModelState object at 0x10ffd80a0>, 'id': 1, 'message': 'post123', 'photo': '', 'is_public': False, 'created_at': datetime.datetime(2023, 1, 7, 12, 45, 0, 229176, tzinfo=datetime.timezone.utc), 'updated_at': datetime.datetime(2023, 1, 7, 12, 45, 0, 229235, tzinfo=datetime.timezone.utc)}\n",
    "'''\n",
    "\n",
    "'''\n",
    "굉장히 독특한 명령문이고 중요 명령문이라고 생각한다.\n",
    "__dict__로 각 객체별로 어떤 값들이 들어있는지 확인할 수 있다.\n",
    "'''"
   ]
  },
  {
   "cell_type": "code",
   "execution_count": 12,
   "id": "58af5041",
   "metadata": {},
   "outputs": [
    {
     "name": "stdout",
     "output_type": "stream",
     "text": [
      "id: 3, massage: post123123123 (2023-01-07 12:45:08.491005+00:00)\n",
      "id: 2, massage: post123123 (2023-01-07 12:45:05.258615+00:00)\n",
      "id: 1, massage: post123 (2023-01-07 12:45:00.229176+00:00)\n"
     ]
    }
   ],
   "source": [
    "for post in qs:\n",
    "    print('id: {id}, massage: {message} ({created_at})'.format(**post.__dict__))\n",
    "    \n",
    "'''\n",
    "id: 3, massage: post123123123 (2023-01-07 12:45:08.491005+00:00)\n",
    "id: 2, massage: post123123 (2023-01-07 12:45:05.258615+00:00)\n",
    "id: 1, massage: post123 (2023-01-07 12:45:00.229176+00:00)\n",
    "'''"
   ]
  },
  {
   "cell_type": "code",
   "execution_count": null,
   "id": "74293f31",
   "metadata": {},
   "outputs": [],
   "source": []
  }
 ],
 "metadata": {
  "kernelspec": {
   "display_name": "Python 3 (ipykernel)",
   "language": "python",
   "name": "python3"
  },
  "language_info": {
   "codemirror_mode": {
    "name": "ipython",
    "version": 3
   },
   "file_extension": ".py",
   "mimetype": "text/x-python",
   "name": "python",
   "nbconvert_exporter": "python",
   "pygments_lexer": "ipython3",
   "version": "3.9.13"
  }
 },
 "nbformat": 4,
 "nbformat_minor": 5
}
